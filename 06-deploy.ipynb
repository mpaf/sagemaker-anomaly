{
 "cells": [
  {
   "cell_type": "code",
   "execution_count": null,
   "metadata": {},
   "outputs": [],
   "source": [
    "%store -r\n",
    "\n",
    "%set_env MLFLOW_TRACKING_URI={mlflow_arn}\n",
    "%set_env MLFLOW_EXPERIMENT_NAME=anomaly_detection\n",
    "%set_env MLFLOW_RUN_NAME=training-kmeans"
   ]
  },
  {
   "cell_type": "code",
   "execution_count": null,
   "metadata": {},
   "outputs": [],
   "source": [
    "# import ModelBuilder from sagemaker\n",
    "from steps.training_kmeans import train_kmeans\n",
    "from sagemaker.serve.builder.model_builder import ModelBuilder\n",
    "from sagemaker.serve.spec.inference_spec import InferenceSpec\n",
    "from sagemaker.serve.builder.schema_builder import SchemaBuilder\n",
    "from sagemaker.serve.mode.function_pointers import Mode\n",
    "import sagemaker\n",
    "import pickle as pkl\n",
    "import numpy as np"
   ]
  },
  {
   "cell_type": "code",
   "execution_count": null,
   "metadata": {},
   "outputs": [],
   "source": [
    "model, labels = train_kmeans(X_train, 3)\n",
    "\n",
    "#pickle model to disk\n",
    "with open('model.pkl', 'wb') as f:\n",
    "    pkl.dump(model, f)\n",
    "\n",
    "# upload model to s3\n",
    "sagemaker_session = sagemaker.Session()\n",
    "model_s3_path = sagemaker_session.upload_data(path='model.pkl', bucket=sagemaker_session.default_bucket(), key_prefix='models')"
   ]
  },
  {
   "cell_type": "code",
   "execution_count": null,
   "metadata": {},
   "outputs": [],
   "source": [
    "from sagemaker.sklearn.model import SKLearnModel\n",
    "\n",
    "sklearn_model = SKLearnModel(\n",
    "    model_data=model_s3_path,\n",
    "    role=sagemaker.get_execution_role(),\n",
    "    source_dir='./src/',\n",
    "    py_version='py3',\n",
    "    framework_version='1.2-1',\n",
    "    entry_point='inference.py'\n",
    ")"
   ]
  },
  {
   "cell_type": "code",
   "execution_count": null,
   "metadata": {},
   "outputs": [],
   "source": [
    "\n",
    "predictor = sklearn_model.deploy(\n",
    "    instance_type='local',\n",
    "    initial_instance_count=1,\n",
    ")"
   ]
  },
  {
   "cell_type": "code",
   "execution_count": null,
   "metadata": {},
   "outputs": [],
   "source": [
    "clusters, dists = predictor.predict(X_test[0:1000].values)"
   ]
  },
  {
   "cell_type": "code",
   "execution_count": null,
   "metadata": {},
   "outputs": [],
   "source": [
    "print(np.where(dists > 16))\n",
    "np.where(y_test[0:1000].values == 1)"
   ]
  }
 ],
 "metadata": {
  "kernelspec": {
   "display_name": "base",
   "language": "python",
   "name": "python3"
  },
  "language_info": {
   "codemirror_mode": {
    "name": "ipython",
    "version": 3
   },
   "file_extension": ".py",
   "mimetype": "text/x-python",
   "name": "python",
   "nbconvert_exporter": "python",
   "pygments_lexer": "ipython3",
   "version": "3.11.10"
  }
 },
 "nbformat": 4,
 "nbformat_minor": 2
}
