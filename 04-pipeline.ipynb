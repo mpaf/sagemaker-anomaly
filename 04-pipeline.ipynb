{
 "cells": [
  {
   "cell_type": "code",
   "execution_count": null,
   "metadata": {},
   "outputs": [],
   "source": [
    "!pip install sagemaker==2.227.0"
   ]
  },
  {
   "cell_type": "code",
   "execution_count": null,
   "metadata": {},
   "outputs": [],
   "source": [
    "from steps.preprocess import preprocess_data\n",
    "from steps.training_kmeans import train_kmeans\n",
    "from sagemaker.workflow.pipeline import Pipeline\n",
    "from sagemaker.workflow.function_step import step\n",
    "from sagemaker.workflow.parameters import ParameterFloat, ParameterInteger, ParameterBoolean, ParameterString\n",
    "from sagemaker.workflow.pipeline_definition_config import PipelineDefinitionConfig\n",
    "from sagemaker import get_execution_role\n",
    "import sagemaker\n",
    "import os"
   ]
  },
  {
   "cell_type": "code",
   "execution_count": null,
   "metadata": {},
   "outputs": [],
   "source": [
    "role = get_execution_role()\n",
    "sagemaker_session = sagemaker.Session()\n",
    "bucket = sagemaker_session.default_bucket()\n",
    "prefix = 'pipelines'\n",
    "\n",
    "config_yaml = f\"\"\"\n",
    "SchemaVersion: '1.0'\n",
    "SageMaker:\n",
    "  PythonSDK:\n",
    "    Modules:\n",
    "      RemoteFunction:\n",
    "        # role arn is not required if in SageMaker Notebook instance or SageMaker Studio\n",
    "        # Uncomment the following line and replace with the right execution role if in a local IDE\n",
    "        # RoleArn: <replace the role arn here>\n",
    "        S3RootUri: s3://{bucket}/{prefix}\n",
    "        InstanceType: ml.m5.xlarge\n",
    "        Dependencies: ./requirements.txt\n",
    "        IncludeLocalWorkDir: true\n",
    "        PreExecutionCommands:\n",
    "        - \"sudo chmod -R 777 /opt/ml/model\"\n",
    "        CustomFileFilter:\n",
    "          IgnoreNamePatterns:\n",
    "          - \"data/*\"\n",
    "          - \"models/*\"\n",
    "          - \"*.ipynb\"\n",
    "          - \"__pycache__\"\n",
    "\n",
    "\"\"\"\n",
    "\n",
    "print(config_yaml, file=open('config.yaml', 'w'))"
   ]
  },
  {
   "cell_type": "code",
   "execution_count": null,
   "metadata": {},
   "outputs": [],
   "source": [
    "%store -r\n",
    "\n",
    "env_variables={'MLFLOW_TRACKING_URI': mlflow_arn, 'MLFLOW_EXPERIMENT_NAME': 'anomaly-detection'}"
   ]
  },
  {
   "cell_type": "code",
   "execution_count": null,
   "metadata": {},
   "outputs": [],
   "source": [
    "# Create a SageMaker Pipeline\n",
    "\n",
    "os.environ[\"SAGEMAKER_USER_CONFIG_OVERRIDE\"] = os.getcwd()\n",
    "\n",
    "pipeline_name = f\"anomaly-detection\"\n",
    "\n",
    "training_instance_type = ParameterString(\n",
    "    name=\"training_instance_type\", default_value=\"ml.m5.xlarge\"\n",
    ")\n",
    "\n",
    "kmeans_nclusters = ParameterInteger(\n",
    "    name=\"kmeans_nclusters\", default_value=2\n",
    ")\n",
    "\n",
    "input_data_s3_uri = ParameterString(\n",
    "    name=\"input_data_s3_uri\", default_value=data_s3_uri\n",
    ")\n",
    "\n",
    "processing_step = step(preprocess_data, name=\"Preprocess\", job_name_prefix=f\"{pipeline_name}-Preprocess\", keep_alive_period_in_seconds=300, environment_variables=env_variables, instance_type=training_instance_type)(input_data_s3_uri)\n",
    "\n",
    "training_step = step(train_kmeans, name=\"Train\", job_name_prefix=f\"{pipeline_name}-Train\", keep_alive_period_in_seconds=300, environment_variables=env_variables, instance_type=training_instance_type)(processing_step[0], kmeans_nclusters)\n",
    "\n",
    "pipeline = Pipeline(\n",
    "    name=pipeline_name,\n",
    "    parameters=[\n",
    "        training_instance_type,\n",
    "        kmeans_nclusters,\n",
    "        input_data_s3_uri,\n",
    "    ],\n",
    "    steps=[processing_step, training_step],\n",
    "    pipeline_definition_config=PipelineDefinitionConfig(use_custom_job_prefix=True),        \n",
    ")\n",
    "\n",
    "# Execute the pipeline in SageMaker\n",
    "pipeline.upsert(role_arn=role)"
   ]
  }
 ],
 "metadata": {
  "kernelspec": {
   "display_name": "base",
   "language": "python",
   "name": "python3"
  },
  "language_info": {
   "codemirror_mode": {
    "name": "ipython",
    "version": 3
   },
   "file_extension": ".py",
   "mimetype": "text/x-python",
   "name": "python",
   "nbconvert_exporter": "python",
   "pygments_lexer": "ipython3",
   "version": "3.11.10"
  }
 },
 "nbformat": 4,
 "nbformat_minor": 2
}
